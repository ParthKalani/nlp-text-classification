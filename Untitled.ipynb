{
 "cells": [
  {
   "cell_type": "markdown",
   "id": "a2f2ce1b",
   "metadata": {},
   "source": [
    "## Assignment: Text Classification\n",
    "\n",
    "### Problem Statement\n",
    "We want to train a machine learning model that can read a sentence and decide which category it belongs to. The categories are sports, politics, tech, food, and entertainment. The text in our dataset is not clean. It may have spelling mistakes, random capital letters, extra spaces, slang words, or emojis. This makes the task more challenging. The goal is to build a model that can still predict the correct category even with messy text.\n",
    "\n",
    "### Dataset\n",
    " The dataset for this assignment is provided in CSV format and can be downloaded from the following link:\n",
    " [Data Source](https://drive.google.com/file/d/1TvapWSyJWXj3cvO3GQVxEQmZKvnedrFi/view?usp=sharing)\n",
    "\n",
    "### Tasks for Students\n",
    "1.\tDownload the dataset using the link above.\n",
    "\n",
    "2.\tExplore the data and look at some examples of messy text.\n",
    "\n",
    "3.\tClean the text by handling issues such as extra spaces, random casing, emojis, or slang.\n",
    "\n",
    "4.\tConvert the text into a machine-readable format (Bag of Words, TF-IDF, or embeddings).\n",
    "\n",
    "5.\tTrain a text classification model using any algorithm you know (Logistic Regression, Naive Bayes, or a simple Neural Network).\n",
    "\n",
    "6.\tTest your model and report the accuracy.\n",
    "\n",
    "7.\tWrite a short conclusion explaining how messy text affects classification.\n",
    "\n",
    "Submission Instructions\n",
    "●\tSave your code and results in a folder.\n",
    "\n",
    "●\tSubmit the folder as a pdf file of your notebook to the Drive\n",
    "\n",
    "●\tInclude a brief report describing your approach, challenges faced, and results.\n",
    "\n",
    "Expected Learning Outcomes\n",
    " By completing this assignment, you will learn how to:\n",
    "●\tWork with messy and unstructured text data\n",
    "\n",
    "●\tClean and prepare text for machine learning\n",
    "\n",
    "●\tBuild and evaluate a simple text classification model\n",
    "\n"
   ]
  }
 ],
 "metadata": {
  "kernelspec": {
   "display_name": "Python 3 (ipykernel)",
   "language": "python",
   "name": "python3"
  },
  "language_info": {
   "codemirror_mode": {
    "name": "ipython",
    "version": 3
   },
   "file_extension": ".py",
   "mimetype": "text/x-python",
   "name": "python",
   "nbconvert_exporter": "python",
   "pygments_lexer": "ipython3",
   "version": "3.9.13"
  }
 },
 "nbformat": 4,
 "nbformat_minor": 5
}
