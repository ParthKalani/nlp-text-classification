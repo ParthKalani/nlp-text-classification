{
 "cells": [
  {
   "cell_type": "markdown",
   "id": "646cead4",
   "metadata": {},
   "source": [
    "## Assignment: Text Classification\n",
    "\n",
    "### Problem Statement\n",
    "We want to train a machine learning model that can read a sentence and decide which category it belongs to. The categories are sports, politics, tech, food, and entertainment. The text in our dataset is not clean. It may have spelling mistakes, random capital letters, extra spaces, slang words, or emojis. This makes the task more challenging. The goal is to build a model that can still predict the correct category even with messy text.\n",
    "\n",
    "### Dataset\n",
    " The dataset for this assignment is provided in CSV format and can be downloaded from the following link:\n",
    " [Data Source](https://drive.google.com/file/d/1TvapWSyJWXj3cvO3GQVxEQmZKvnedrFi/view?usp=sharing)\n",
    "\n",
    "### Tasks for Students\n",
    "1.\tDownload the dataset using the link above.\n",
    "\n",
    "2.\tExplore the data and look at some examples of messy text.\n",
    "\n",
    "3.\tClean the text by handling issues such as extra spaces, random casing, emojis, or slang.\n",
    "\n",
    "4.\tConvert the text into a machine-readable format (Bag of Words, TF-IDF, or embeddings).\n",
    "\n",
    "5.\tTrain a text classification model using any algorithm you know (Logistic Regression, Naive Bayes, or a simple Neural Network).\n",
    "\n",
    "6.\tTest your model and report the accuracy.\n",
    "\n",
    "7.\tWrite a short conclusion explaining how messy text affects classification.\n",
    "\n",
    "### Submission Instructions\n",
    "1. Save your code and results in a folder.\n",
    "\n",
    "2. Submit the folder as a pdf file of your notebook to the Drive\n",
    "\n",
    "3. Include a brief report describing your approach, challenges faced, and results.\n",
    "\n",
    "### Expected Learning Outcomes\n",
    " By completing this assignment, you will learn how to:\n",
    "1. Work with messy and unstructured text data\n",
    "2. Clean and prepare text for machine learning\n",
    "3. Build and evaluate a simple text classification model\n",
    "\n"
   ]
  },
  {
   "cell_type": "code",
   "execution_count": 19,
   "id": "1d5e1bd2",
   "metadata": {},
   "outputs": [],
   "source": [
    "#import libraries\n",
    "import pandas as pd\n",
    "import numpy as np\n",
    "import re\n",
    "import emoji\n",
    "from sklearn.model_selection import train_test_split\n",
    "from sklearn.feature_extraction.text import TfidfVectorizer\n",
    "from sklearn.linear_model import LogisticRegression\n",
    "from sklearn.metrics import classification_report, accuracy_score"
   ]
  },
  {
   "cell_type": "code",
   "execution_count": 20,
   "id": "a669c02a",
   "metadata": {},
   "outputs": [
    {
     "name": "stdout",
     "output_type": "stream",
     "text": [
      "                                                text   label\n",
      "0  DEbATinG IF BuRgER🍔 Or bIRYanI is THe TRUe kIn...    food\n",
      "1  LATEst SMartpHONE bY opeNai dROPpEd tOdAy 🔥 wi...    tech\n",
      "2  cRicKet COMmeNTArY FelT bIasEd SmH BUT sTILL W...  sports\n",
      "3  sOfTwaRE upDatE HaD BuGZzZ again 😂 usErs on Tw...    tech\n",
      "4  soFTwarE updatE Had bugZzz AGAIN 😂 useRs On Tw...    tech\n",
      "food             2000\n",
      "tech             2000\n",
      "sports           2000\n",
      "politics         2000\n",
      "entertainment    2000\n",
      "Name: label, dtype: int64\n"
     ]
    }
   ],
   "source": [
    "df = pd.read_csv('./Dataset/text_classifcation.csv')\n",
    "print(df.head())\n",
    "print(df['label'].value_counts())"
   ]
  },
  {
   "cell_type": "code",
   "execution_count": 21,
   "id": "1b47cecc",
   "metadata": {},
   "outputs": [
    {
     "name": "stdout",
     "output_type": "stream",
     "text": [
      "                                                text  \\\n",
      "0  DEbATinG IF BuRgER🍔 Or bIRYanI is THe TRUe kIn...   \n",
      "1  LATEst SMartpHONE bY opeNai dROPpEd tOdAy 🔥 wi...   \n",
      "2  cRicKet COMmeNTArY FelT bIasEd SmH BUT sTILL W...   \n",
      "3  sOfTwaRE upDatE HaD BuGZzZ again 😂 usErs on Tw...   \n",
      "4  soFTwarE updatE Had bugZzz AGAIN 😂 useRs On Tw...   \n",
      "\n",
      "                                          clean_text  \n",
      "0  debating if burger or biryani is the true king...  \n",
      "1  latest smartphone by openai dropped today with...  \n",
      "2  cricket commentary felt biased smh but still w...  \n",
      "3  software update had bugz again users on twitte...  \n",
      "4  software update had bugz again users on twitte...  \n"
     ]
    }
   ],
   "source": [
    "def clean_text(text):\n",
    "    if not isinstance(text, str):\n",
    "        return \"\"\n",
    "    \n",
    "    # Lowercase\n",
    "    text = text.lower()\n",
    "    \n",
    "    # Remove emojis\n",
    "    text = emoji.replace_emoji(text, replace=\"\")\n",
    "    \n",
    "    # Remove URLs, mentions, hashtags\n",
    "    text = re.sub(r\"http\\S+|www\\S+|@\\w+|#\\w+\", \"\", text)\n",
    "    \n",
    "    # Remove numbers\n",
    "    text = re.sub(r\"\\d+\", \"\", text)\n",
    "    \n",
    "    # Normalize elongated words (e.g. bugzzzz → bug)\n",
    "    text = re.sub(r\"(.)\\1{2,}\", r\"\\1\", text)\n",
    "    \n",
    "    # Remove special characters\n",
    "    text = re.sub(r\"[^a-z\\s]\", \" \", text)\n",
    "    \n",
    "    # Remove extra spaces\n",
    "    text = re.sub(r\"\\s+\", \" \", text).strip()\n",
    "    \n",
    "    return text\n",
    "\n",
    "df['clean_text'] = df['text'].apply(clean_text)\n",
    "print(df[['text', 'clean_text']].head())\n"
   ]
  },
  {
   "cell_type": "code",
   "execution_count": 22,
   "id": "5a117085",
   "metadata": {},
   "outputs": [],
   "source": [
    "X = df['clean_text']\n",
    "y = df['label']\n",
    "\n",
    "X_train, X_test, y_train, y_test = train_test_split(\n",
    "    X, y, test_size=0.2, random_state=42, stratify=y\n",
    ")\n"
   ]
  },
  {
   "cell_type": "code",
   "execution_count": 23,
   "id": "ae62cf6c",
   "metadata": {},
   "outputs": [],
   "source": [
    "vectorizer = TfidfVectorizer(ngram_range=(1,2), max_features=5000)\n",
    "X_train_tfidf = vectorizer.fit_transform(X_train)\n",
    "X_test_tfidf = vectorizer.transform(X_test)\n"
   ]
  },
  {
   "cell_type": "code",
   "execution_count": 24,
   "id": "9137d139",
   "metadata": {},
   "outputs": [
    {
     "data": {
      "text/plain": [
       "LogisticRegression(max_iter=1000)"
      ]
     },
     "execution_count": 24,
     "metadata": {},
     "output_type": "execute_result"
    }
   ],
   "source": [
    "clf = LogisticRegression(max_iter=1000)\n",
    "clf.fit(X_train_tfidf, y_train)"
   ]
  },
  {
   "cell_type": "code",
   "execution_count": 25,
   "id": "36ac56fa",
   "metadata": {},
   "outputs": [
    {
     "name": "stdout",
     "output_type": "stream",
     "text": [
      "Accuracy: 1.0\n",
      "\n",
      "Classification Report:\n",
      "                precision    recall  f1-score   support\n",
      "\n",
      "entertainment       1.00      1.00      1.00       400\n",
      "         food       1.00      1.00      1.00       400\n",
      "     politics       1.00      1.00      1.00       400\n",
      "       sports       1.00      1.00      1.00       400\n",
      "         tech       1.00      1.00      1.00       400\n",
      "\n",
      "     accuracy                           1.00      2000\n",
      "    macro avg       1.00      1.00      1.00      2000\n",
      " weighted avg       1.00      1.00      1.00      2000\n",
      "\n"
     ]
    }
   ],
   "source": [
    "y_pred = clf.predict(X_test_tfidf)\n",
    "\n",
    "print(\"Accuracy:\", accuracy_score(y_test, y_pred))\n",
    "print(\"\\nClassification Report:\\n\", classification_report(y_test, y_pred))\n"
   ]
  },
  {
   "cell_type": "code",
   "execution_count": null,
   "id": "e654c7f0",
   "metadata": {},
   "outputs": [],
   "source": []
  }
 ],
 "metadata": {
  "kernelspec": {
   "display_name": "Python 3 (ipykernel)",
   "language": "python",
   "name": "python3"
  },
  "language_info": {
   "codemirror_mode": {
    "name": "ipython",
    "version": 3
   },
   "file_extension": ".py",
   "mimetype": "text/x-python",
   "name": "python",
   "nbconvert_exporter": "python",
   "pygments_lexer": "ipython3",
   "version": "3.9.13"
  }
 },
 "nbformat": 4,
 "nbformat_minor": 5
}
